{
 "cells": [
  {
   "cell_type": "markdown",
   "metadata": {},
   "source": [
    "# Project of Sentiment Analysis comparing LWoR vs LWR"
   ]
  },
  {
   "cell_type": "code",
   "execution_count": 1,
   "metadata": {
    "collapsed": false
   },
   "outputs": [],
   "source": [
    "import tweepy\n",
    "from textblob import TextBlob\n",
    "import sys\n",
    "import csv\n",
    "import pandas as pd\n"
   ]
  },
  {
   "cell_type": "code",
   "execution_count": 2,
   "metadata": {
    "collapsed": true
   },
   "outputs": [],
   "source": [
    "consumer_key= '4H4YnggadmcBMsWQuR150TmOi'\n",
    "consumer_secret= 'f3ABijnEX5qb0vvfaFhrVPGwBGBWBY6smQGZfYCNHTwOeJYoea'"
   ]
  },
  {
   "cell_type": "code",
   "execution_count": 3,
   "metadata": {
    "collapsed": true
   },
   "outputs": [],
   "source": [
    "access_token='751119440-JgiH9foYL9Dp4Eef5FZNsTcWYmlqZmM6wc0PxOW0'\n",
    "access_token_secret='dgLzy3Ht0kbLrxG8daPoZbBTEcEszY3UJIjFgMXJlkvle'"
   ]
  },
  {
   "cell_type": "code",
   "execution_count": 4,
   "metadata": {
    "collapsed": false
   },
   "outputs": [],
   "source": [
    "auth = tweepy.OAuthHandler(consumer_key, consumer_secret)\n",
    "auth.set_access_token(access_token, access_token_secret)\n"
   ]
  },
  {
   "cell_type": "code",
   "execution_count": 5,
   "metadata": {
    "collapsed": true
   },
   "outputs": [],
   "source": [
    "api = tweepy.API(auth, wait_on_rate_limit= True ,wait_on_rate_limit_notify= True)"
   ]
  },
  {
   "cell_type": "markdown",
   "metadata": {},
   "source": [
    "## Tweets Collected using twitter API is saved here in result3.csv"
   ]
  },
  {
   "cell_type": "code",
   "execution_count": 6,
   "metadata": {
    "collapsed": false,
    "scrolled": false
   },
   "outputs": [],
   "source": [
    "csvFile = open('result3.csv', 'a')\n",
    "csvWriter = csv.writer(csvFile)\n",
    "csvWriter.writerow([\"created_at\",\"tweet\"])\n",
    "\n",
    "for tweet in tweepy.Cursor(api.search,\n",
    "                           q=\"@realDonaldTrump\",\n",
    "                           count=100,\n",
    "                           result_type=\"recent\",\n",
    "                           include_entities=True,\n",
    "                           lang=\"en\").items(800):\n",
    "    csvWriter.writerow([tweet.created_at, tweet.text.encode('utf-8')])\n",
    "    #print (tweet.created_at, tweet.text)\n",
    "csvFile.close()"
   ]
  },
  {
   "cell_type": "code",
   "execution_count": 7,
   "metadata": {
    "collapsed": false
   },
   "outputs": [],
   "source": [
    "public_tweets = pd.read_csv(\"C:\\\\Users\\\\Parth\\\\Desktop\\\\result3.csv\")"
   ]
  },
  {
   "cell_type": "code",
   "execution_count": 8,
   "metadata": {
    "collapsed": false
   },
   "outputs": [
    {
     "data": {
      "text/html": [
       "<div>\n",
       "<table border=\"1\" class=\"dataframe\">\n",
       "  <thead>\n",
       "    <tr style=\"text-align: right;\">\n",
       "      <th></th>\n",
       "      <th>created_at</th>\n",
       "      <th>tweet</th>\n",
       "    </tr>\n",
       "  </thead>\n",
       "  <tbody>\n",
       "    <tr>\n",
       "      <th>0</th>\n",
       "      <td>2017-11-24 22:59:24</td>\n",
       "      <td>b\"@Bulmanghani @realDonaldTrump And Maryland.....</td>\n",
       "    </tr>\n",
       "    <tr>\n",
       "      <th>1</th>\n",
       "      <td>2017-11-24 22:59:24</td>\n",
       "      <td>b\"@realDonaldTrump Are you sure they didn't sa...</td>\n",
       "    </tr>\n",
       "    <tr>\n",
       "      <th>2</th>\n",
       "      <td>2017-11-24 22:59:24</td>\n",
       "      <td>b\"@realDonaldTrump I thought you said your gol...</td>\n",
       "    </tr>\n",
       "    <tr>\n",
       "      <th>3</th>\n",
       "      <td>2017-11-24 22:59:24</td>\n",
       "      <td>b'RT @realDonaldTrump: Time Magazine called to...</td>\n",
       "    </tr>\n",
       "    <tr>\n",
       "      <th>4</th>\n",
       "      <td>2017-11-24 22:59:24</td>\n",
       "      <td>b'@realDonaldTrump Like this one! https://t.co...</td>\n",
       "    </tr>\n",
       "  </tbody>\n",
       "</table>\n",
       "</div>"
      ],
      "text/plain": [
       "            created_at                                              tweet\n",
       "0  2017-11-24 22:59:24  b\"@Bulmanghani @realDonaldTrump And Maryland.....\n",
       "1  2017-11-24 22:59:24  b\"@realDonaldTrump Are you sure they didn't sa...\n",
       "2  2017-11-24 22:59:24  b\"@realDonaldTrump I thought you said your gol...\n",
       "3  2017-11-24 22:59:24  b'RT @realDonaldTrump: Time Magazine called to...\n",
       "4  2017-11-24 22:59:24  b'@realDonaldTrump Like this one! https://t.co..."
      ]
     },
     "execution_count": 8,
     "metadata": {},
     "output_type": "execute_result"
    }
   ],
   "source": [
    "public_tweets.head()"
   ]
  },
  {
   "cell_type": "markdown",
   "metadata": {
    "collapsed": false
   },
   "source": [
    "#  Don't run this cell\n",
    "\n",
    "\n",
    "## Sentiment Analysis provided for the tweets collected for trump"
   ]
  },
  {
   "cell_type": "code",
   "execution_count": null,
   "metadata": {
    "collapsed": true
   },
   "outputs": [],
   "source": [
    "csvfile1 = open('tweets1.csv', 'a') #open file for operation\n",
    "csvWriter1 = csv.writer(csvfile1)\n",
    "csvWriter1.writerow([\"tweet\",\"Sentiment\",\"Polarity/subjectivity\"])\n",
    "\n",
    "for tweet in public_tweets[\"tweet\"]:\n",
    "    print (tweet+\"\\n\\n\")\n",
    "    foo = tweet.encode('utf-8').strip() \n",
    "    analysis = TextBlob(tweet).sentiment\n",
    "    emotion = analysis.polarity\n",
    "    if emotion > 0:\n",
    "       csvWriter1.writerow([foo,\"positive\",analysis]) \n",
    "    else : \n",
    "       csvWriter1.writerow([foo,\"negative\",analysis])         \n",
    "    \n",
    "csvfile1.close()\n",
    "print(\"Entire process completed successfully ! Open your CSV file and look at the results.\")"
   ]
  },
  {
   "cell_type": "code",
   "execution_count": 9,
   "metadata": {
    "collapsed": false
   },
   "outputs": [],
   "source": [
    "answer = pd.read_csv('C:\\\\Users\\\\Parth\\\\Desktop\\\\Sem 3\\\\Project\\\\tweets1.csv',error_bad_lines= False)"
   ]
  },
  {
   "cell_type": "code",
   "execution_count": 10,
   "metadata": {
    "collapsed": false
   },
   "outputs": [
    {
     "data": {
      "text/html": [
       "<div>\n",
       "<table border=\"1\" class=\"dataframe\">\n",
       "  <thead>\n",
       "    <tr style=\"text-align: right;\">\n",
       "      <th></th>\n",
       "      <th>tweet</th>\n",
       "      <th>Sentiment</th>\n",
       "      <th>Polarity/subjectivity</th>\n",
       "    </tr>\n",
       "  </thead>\n",
       "  <tbody>\n",
       "    <tr>\n",
       "      <th>0</th>\n",
       "      <td>b'b\"@Bulmanghani @realDonaldTrump And Maryland...</td>\n",
       "      <td>negative</td>\n",
       "      <td>Sentiment(polarity=-0.6, subjectivity=0.8)</td>\n",
       "    </tr>\n",
       "    <tr>\n",
       "      <th>1</th>\n",
       "      <td>b'b\"@realDonaldTrump Are you sure they didn\\'t...</td>\n",
       "      <td>positive</td>\n",
       "      <td>Sentiment(polarity=0.5, subjectivity=0.8888888...</td>\n",
       "    </tr>\n",
       "    <tr>\n",
       "      <th>2</th>\n",
       "      <td>b'b\"@realDonaldTrump I thought you said your g...</td>\n",
       "      <td>positive</td>\n",
       "      <td>Sentiment(polarity=0.3333333333333333, subject...</td>\n",
       "    </tr>\n",
       "    <tr>\n",
       "      <th>3</th>\n",
       "      <td>b\"b'RT @realDonaldTrump: Time Magazine called ...</td>\n",
       "      <td>negative</td>\n",
       "      <td>Sentiment(polarity=0.0, subjectivity=0.0666666...</td>\n",
       "    </tr>\n",
       "    <tr>\n",
       "      <th>4</th>\n",
       "      <td>b\"b'@realDonaldTrump Like this one! https://t....</td>\n",
       "      <td>negative</td>\n",
       "      <td>Sentiment(polarity=0.0, subjectivity=0.0)</td>\n",
       "    </tr>\n",
       "  </tbody>\n",
       "</table>\n",
       "</div>"
      ],
      "text/plain": [
       "                                               tweet Sentiment  \\\n",
       "0  b'b\"@Bulmanghani @realDonaldTrump And Maryland...  negative   \n",
       "1  b'b\"@realDonaldTrump Are you sure they didn\\'t...  positive   \n",
       "2  b'b\"@realDonaldTrump I thought you said your g...  positive   \n",
       "3  b\"b'RT @realDonaldTrump: Time Magazine called ...  negative   \n",
       "4  b\"b'@realDonaldTrump Like this one! https://t....  negative   \n",
       "\n",
       "                               Polarity/subjectivity  \n",
       "0         Sentiment(polarity=-0.6, subjectivity=0.8)  \n",
       "1  Sentiment(polarity=0.5, subjectivity=0.8888888...  \n",
       "2  Sentiment(polarity=0.3333333333333333, subject...  \n",
       "3  Sentiment(polarity=0.0, subjectivity=0.0666666...  \n",
       "4          Sentiment(polarity=0.0, subjectivity=0.0)  "
      ]
     },
     "execution_count": 10,
     "metadata": {},
     "output_type": "execute_result"
    }
   ],
   "source": [
    "answer.head()"
   ]
  },
  {
   "cell_type": "markdown",
   "metadata": {},
   "source": [
    "# Rationales are provided for every tweets"
   ]
  },
  {
   "cell_type": "code",
   "execution_count": 11,
   "metadata": {
    "collapsed": false
   },
   "outputs": [],
   "source": [
    "Rationales = [('1',['bastard','dirty','theif','hustler']),\n",
    "              ('2',['didn\\'t']),\n",
    "              ('3',['won\\'t','but']),\n",
    "              ('4',['won\\'t','but']),\n",
    "              ('5',['']),\n",
    "              ('6',['political','made']),\n",
    "              ('7',['sad','end']),\n",
    "              ('8',['fucked']),\n",
    "              ('9',['Thanksgiving']),\n",
    "              ('10',['won\\'t']),\n",
    "              ('11',['doubt']),\n",
    "              ('12',['won\\'t','but']),\n",
    "              ('13',['won\\'t','but']),\n",
    "              ('14',['impeached','exposed']),\n",
    "              ('15',['no good','off','no']),\n",
    "              ('16',['idoit','asshole']),\n",
    "              ('17',['ass']),\n",
    "              ('18',['but','won\\'t']),\n",
    "              ('19',['narcissist']),\n",
    "              ('20',['right']),\n",
    "              ('21',['class']),\n",
    "              ('21',['painfully','fragile','ego']),\n",
    "              ('22',['defeat']),\n",
    "              ('23',['won\\'t']),\n",
    "              ('24',['sure']),\n",
    "              ('25',['sniff','cocaine']),\n",
    "              ('26',['lying','not']),\n",
    "              ('27',['but','won\\'t']),\n",
    "              ('28',['lie']),\n",
    "              ('29',['fake']),\n",
    "              ('30',['shit']),\n",
    "              ('31',['sad']),\n",
    "              ('32',['well']),\n",
    "              ('33',['don\\'t']),\n",
    "              ('34',['humour']),\n",
    "              ('35',['good','development']),\n",
    "              ('36',['fake','Liars']),\n",
    "              ('37',['but','won\\'t']),\n",
    "              ('38',['sure','good','supremacy']),\n",
    "              ('39',['shit']),\n",
    "              ('40',['won\\'t']),\n",
    "              ('41',['won\\'t']),\n",
    "              ('42',['fake']),\n",
    "              ('43',['fuck','no']),\n",
    "              ('44',['']),\n",
    "              ('45',['stop']),\n",
    "              ('46',['can\\'t']),\n",
    "              ('47',['disappointed']),\n",
    "              ('48',['not']),\n",
    "              ('49',['What', 'did',' your' ,'parents' ,'do' ,'to',' you???']),\n",
    "              ('50',['turn down']),\n",
    "              ('51',['worn out']),\n",
    "              ('52',['turn down']),\n",
    "              ('53',['don\\'t']),\n",
    "              ('54',['don\\'t','doubt']),\n",
    "              ('55',['dipshit']),\n",
    "              ('56',['undebatably']),\n",
    "              ('57',['right','happy']),\n",
    "              ('58',['conman','racist','bitch','disrespectful']),\n",
    "              ('59',['piss']),\n",
    "              ('60',['won\\'t']),\n",
    "              ('61',['won\\'t']),\n",
    "              ('62',['fake','fuck','moron']),\n",
    "              ('63',['wrong']),\n",
    "              ('64',['ignorant','pathetic']),\n",
    "              ('65',['lying','idiot']),\n",
    "              ('66',['Hustler']),\n",
    "              ('67',['brave']),\n",
    "              ('68',['love']),\n",
    "              ('69',['cowardly','defenseless','cannnot']),\n",
    "              ('70',['stealing']),\n",
    "              ('71',['confidence']),\n",
    "              ('72',['but','won\\'t']),\n",
    "              ('73',['love']),\n",
    "              ('74',['but','won\\'t']),\n",
    "              ('75',['right','thank']),\n",
    "              ('76',['low','sad']),\n",
    "              ('77',['grateful','thank']),\n",
    "              ('78',['unjust','egregious']),\n",
    "              ('79',['worst','narcissist']),\n",
    "              ('80',['horrible','cowardly','cannot']),\n",
    "              ('81',['but','won\\'t']),\n",
    "              ('82',['awesome','Nice','Award']),\n",
    "              ('83',['honor']),\n",
    "              ('84',['didn\\'t']),\n",
    "              ('85',['gtfo','don\\'t']),\n",
    "              ('86',['very well']),\n",
    "              ('87',['wouldn\\'t']),\n",
    "              ('88',['but','won\\'t']),\n",
    "              ('89',['die']),\n",
    "              ('90',['good','win']),\n",
    "              ('91',['']),\n",
    "              ('92',['anymore','no','Failing']),\n",
    "              ('93',['but','won\\'t']),\n",
    "              ('94',['but','won\\'t']),\n",
    "              ('95',['good','no']),\n",
    "              ('96',['disgusting']),\n",
    "              ('97',['Eeewwwww']),\n",
    "              ('98',['disgusting' ,'egotistical',' megalomaniac','vile']),\n",
    "              ('99',['huge']),\n",
    "              ('100',['boss']),\n",
    "              ('101',['not','Like']),\n",
    "              ('102',['honest']),\n",
    "              ('103',['brutal']),\n",
    "              ('104',['love']),\n",
    "              ('105',['won\\'t']),\n",
    "              ('106',['']),\n",
    "              ('107',['won\\'t']),\n",
    "              ('108',['Thanks','laugh']),\n",
    "              ('109',['will','this','do']),\n",
    "              ('110',['great','honor','incredible']),\n",
    "              ('111',['haha','funny']),\n",
    "              ('112',['LOT','o']),\n",
    "              ('113',['']),\n",
    "              ('114',['not']),\n",
    "              ('115',['ego','stroke']),\n",
    "              ('116',['insecure','no']),\n",
    "              ('117',['']),\n",
    "              ('118',['won\\'t']),\n",
    "              ('119',['love']),\n",
    "              ('120',['Hitler']),\n",
    "              ('121',['sick','f*cking','liar']),\n",
    "              ('122',['more popular']),\n",
    "              ('123',['Apology']),\n",
    "              ('124',['popular']),\n",
    "              ('125',['bring',' it' ,'on']),\n",
    "              ('126',['Adolph Hitler','Joseph Stalin']),\n",
    "              ('127',['loss']),\n",
    "              ('128',['ban','ridiculous']),\n",
    "              ('129',['seriously wondering']),\n",
    "              ('130',['best person']),\n",
    "              ('131',['Happy','Thanksgiving']),\n",
    "              ('132',['but','won\\'t']),\n",
    "              ('133',['mean','embarrassed']),\n",
    "              ('134',['joke','pathetic']),\n",
    "              ('135',['great']),\n",
    "              ('136',['tragic','loss']),\n",
    "              ('137',['conspiracy','against','can\\'t']),\n",
    "              ('138',['lie']),\n",
    "              ('139',['hitler']),\n",
    "              ('140',['win']),\n",
    "              ('141',['great']),\n",
    "              ('142',['save yourself']),\n",
    "              ('143',['real','attention']),\n",
    "              ('144',['hitler']),\n",
    "              ('145',['attacked','blocking']),\n",
    "              ('146',['top']),\n",
    "              ('147',['attack','hatred']),\n",
    "              ('148',['horrible','cowardly','terrorist','attack','defenseless','cannot']),\n",
    "              ('149',['won\\'t']),\n",
    "              ('150',['but','won\\'t']),\n",
    "              ('151',['sad','afraid']),\n",
    "              ('156',['horrible','cowardly','terrorist','attack','defenseless','cannot']),\n",
    "              ('157',['sure','major']),\n",
    "              ('158',['but']),\n",
    "              ('159',['fucking','embarrasment']),\n",
    "              ('160',['no','wouldn\\'t']),\n",
    "              ('161',['GOAT']),\n",
    "              ('162',['trash']),\n",
    "              ('163',['fuck']),\n",
    "              ('164',['funny']),\n",
    "              ('165',['fake','remove']),\n",
    "              ('166',['sorry','without','accusations']),\n",
    "              ('167',['but']),\n",
    "              ('168',['bellend']),\n",
    "              ('169',['PROBABLY']),\n",
    "              ('170',['gay']),\n",
    "              ('171',['insecure']),\n",
    "              ('172',['won\\'t']),\n",
    "              ('173',['craes','more','popularity']),\n",
    "              ('174',['good','everyone']),\n",
    "              ('175',['corrupt','busted','locked','RATS']),\n",
    "              ('176',['corrupt','busted','locked','RATS']),\n",
    "              ('177',['wrong']),\n",
    "              ('178',['indicted']),\n",
    "              ('179',['Not','Delusional','grandeur']),\n",
    "              ('180',['won\\'t']),\n",
    "              ('181',['loved']),\n",
    "              ('182',['play']),\n",
    "              ('183',['but','won\\'t']),\n",
    "              ('184',['won\\'t']),\n",
    "              ('185',['won\\'t']),\n",
    "              ('186',['']),\n",
    "              ('187',['healthy','possible']),\n",
    "              ('188',['']),\n",
    "              ('189',['mess']),\n",
    "              ('190',['coincidence','exact']),\n",
    "              ('191',['']),\n",
    "              ('192',['burn']),\n",
    "              ('193',['Don\\'t','languish']),\n",
    "              ('194',['traitor','no right']),\n",
    "              ('195',['sorry']),\n",
    "              ('196',['forgive','fake']),\n",
    "              ('197',['']),\n",
    "              ('198',['won\\'t']),\n",
    "              ('199',['popularity']),\n",
    "              ('200',['']),\n",
    "              ('201',['unfunny','meme']),\n",
    "              ('202',['great']),\n",
    "              ('203',['pathological']),\n",
    "              ('204',['bring it on']),\n",
    "              ('205',['great']),\n",
    "              ('206',['blast']),\n",
    "              ('207',['sexual predator','con-man']),\n",
    "              ('208',['']),\n",
    "              ('209',['awesome','respect']),\n",
    "              ('210',['turn down']),\n",
    "              ('211',['more','believed']),\n",
    "              ('212',['mess']),\n",
    "              ('213',['great']),\n",
    "              ('214',['exactly','like']),\n",
    "              ('215',['no','hell']),\n",
    "              ('216',['pathetic']),\n",
    "              ('217',['nobody','fake']),\n",
    "              ('218',['']),\n",
    "              ('219',['']),\n",
    "              ('220',['freedoms','afforded']),\n",
    "              ('221',['lying','idiot']),\n",
    "              ('222',['']),\n",
    "              ('223',['more popular']),\n",
    "              ('224',['']),\n",
    "              ('225',['']),\n",
    "              ('226',['cares more']),\n",
    "              ('227',['']),\n",
    "              ('228',['severe mental disorder','disorder']),\n",
    "              ('229',['']),\n",
    "              ('230',['smart']),\n",
    "              ('231',['disrespect','penalty']),\n",
    "             \n",
    "             \n",
    "             ]"
   ]
  },
  {
   "cell_type": "code",
   "execution_count": 12,
   "metadata": {
    "collapsed": false
   },
   "outputs": [
    {
     "data": {
      "text/plain": [
       "[('1', ['bastard', 'dirty', 'theif', 'hustler']),\n",
       " ('2', [\"didn't\"]),\n",
       " ('3', [\"won't\", 'but']),\n",
       " ('4', [\"won't\", 'but']),\n",
       " ('5', ['']),\n",
       " ('6', ['political', 'made']),\n",
       " ('7', ['sad', 'end']),\n",
       " ('8', ['fucked']),\n",
       " ('9', ['Thanksgiving']),\n",
       " ('10', [\"won't\"]),\n",
       " ('11', ['doubt']),\n",
       " ('12', [\"won't\", 'but']),\n",
       " ('13', [\"won't\", 'but']),\n",
       " ('14', ['impeached', 'exposed']),\n",
       " ('15', ['no good', 'off', 'no']),\n",
       " ('16', ['idoit', 'asshole']),\n",
       " ('17', ['ass']),\n",
       " ('18', ['but', \"won't\"]),\n",
       " ('19', ['narcissist']),\n",
       " ('20', ['right']),\n",
       " ('21', ['class']),\n",
       " ('21', ['painfully', 'fragile', 'ego']),\n",
       " ('22', ['defeat']),\n",
       " ('23', [\"won't\"]),\n",
       " ('24', ['sure']),\n",
       " ('25', ['sniff', 'cocaine']),\n",
       " ('26', ['lying', 'not']),\n",
       " ('27', ['but', \"won't\"]),\n",
       " ('28', ['lie']),\n",
       " ('29', ['fake']),\n",
       " ('30', ['shit']),\n",
       " ('31', ['sad']),\n",
       " ('32', ['well']),\n",
       " ('33', [\"don't\"]),\n",
       " ('34', ['humour']),\n",
       " ('35', ['good', 'development']),\n",
       " ('36', ['fake', 'Liars']),\n",
       " ('37', ['but', \"won't\"]),\n",
       " ('38', ['sure', 'good', 'supremacy']),\n",
       " ('39', ['shit']),\n",
       " ('40', [\"won't\"]),\n",
       " ('41', [\"won't\"]),\n",
       " ('42', ['fake']),\n",
       " ('43', ['fuck', 'no']),\n",
       " ('44', ['']),\n",
       " ('45', ['stop']),\n",
       " ('46', [\"can't\"]),\n",
       " ('47', ['disappointed']),\n",
       " ('48', ['not']),\n",
       " ('49', ['What', 'did', ' your', 'parents', 'do', 'to', ' you???']),\n",
       " ('50', ['turn down']),\n",
       " ('51', ['worn out']),\n",
       " ('52', ['turn down']),\n",
       " ('53', [\"don't\"]),\n",
       " ('54', [\"don't\", 'doubt']),\n",
       " ('55', ['dipshit']),\n",
       " ('56', ['undebatably']),\n",
       " ('57', ['right', 'happy']),\n",
       " ('58', ['conman', 'racist', 'bitch', 'disrespectful']),\n",
       " ('59', ['piss']),\n",
       " ('60', [\"won't\"]),\n",
       " ('61', [\"won't\"]),\n",
       " ('62', ['fake', 'fuck', 'moron']),\n",
       " ('63', ['wrong']),\n",
       " ('64', ['ignorant', 'pathetic']),\n",
       " ('65', ['lying', 'idiot']),\n",
       " ('66', ['Hustler']),\n",
       " ('67', ['brave']),\n",
       " ('68', ['love']),\n",
       " ('69', ['cowardly', 'defenseless', 'cannnot']),\n",
       " ('70', ['stealing']),\n",
       " ('71', ['confidence']),\n",
       " ('72', ['but', \"won't\"]),\n",
       " ('73', ['love']),\n",
       " ('74', ['but', \"won't\"]),\n",
       " ('75', ['right', 'thank']),\n",
       " ('76', ['low', 'sad']),\n",
       " ('77', ['grateful', 'thank']),\n",
       " ('78', ['unjust', 'egregious']),\n",
       " ('79', ['worst', 'narcissist']),\n",
       " ('80', ['horrible', 'cowardly', 'cannot']),\n",
       " ('81', ['but', \"won't\"]),\n",
       " ('82', ['awesome', 'Nice', 'Award']),\n",
       " ('83', ['honor']),\n",
       " ('84', [\"didn't\"]),\n",
       " ('85', ['gtfo', \"don't\"]),\n",
       " ('86', ['very well']),\n",
       " ('87', [\"wouldn't\"]),\n",
       " ('88', ['but', \"won't\"]),\n",
       " ('89', ['die']),\n",
       " ('90', ['good', 'win']),\n",
       " ('91', ['']),\n",
       " ('92', ['anymore', 'no', 'Failing']),\n",
       " ('93', ['but', \"won't\"]),\n",
       " ('94', ['but', \"won't\"]),\n",
       " ('95', ['good', 'no']),\n",
       " ('96', ['disgusting']),\n",
       " ('97', ['Eeewwwww']),\n",
       " ('98', ['disgusting', 'egotistical', ' megalomaniac', 'vile']),\n",
       " ('99', ['huge']),\n",
       " ('100', ['boss']),\n",
       " ('101', ['not', 'Like']),\n",
       " ('102', ['honest']),\n",
       " ('103', ['brutal']),\n",
       " ('104', ['love']),\n",
       " ('105', [\"won't\"]),\n",
       " ('106', ['']),\n",
       " ('107', [\"won't\"]),\n",
       " ('108', ['Thanks', 'laugh']),\n",
       " ('109', ['will', 'this', 'do']),\n",
       " ('110', ['great', 'honor', 'incredible']),\n",
       " ('111', ['haha', 'funny']),\n",
       " ('112', ['LOT', 'o']),\n",
       " ('113', ['']),\n",
       " ('114', ['not']),\n",
       " ('115', ['ego', 'stroke']),\n",
       " ('116', ['insecure', 'no']),\n",
       " ('117', ['']),\n",
       " ('118', [\"won't\"]),\n",
       " ('119', ['love']),\n",
       " ('120', ['Hitler']),\n",
       " ('121', ['sick', 'f*cking', 'liar']),\n",
       " ('122', ['more popular']),\n",
       " ('123', ['Apology']),\n",
       " ('124', ['popular']),\n",
       " ('125', ['bring', ' it', 'on']),\n",
       " ('126', ['Adolph Hitler', 'Joseph Stalin']),\n",
       " ('127', ['loss']),\n",
       " ('128', ['ban', 'ridiculous']),\n",
       " ('129', ['seriously wondering']),\n",
       " ('130', ['best person']),\n",
       " ('131', ['Happy', 'Thanksgiving']),\n",
       " ('132', ['but', \"won't\"]),\n",
       " ('133', ['mean', 'embarrassed']),\n",
       " ('134', ['joke', 'pathetic']),\n",
       " ('135', ['great']),\n",
       " ('136', ['tragic', 'loss']),\n",
       " ('137', ['conspiracy', 'against', \"can't\"]),\n",
       " ('138', ['lie']),\n",
       " ('139', ['hitler']),\n",
       " ('140', ['win']),\n",
       " ('141', ['great']),\n",
       " ('142', ['save yourself']),\n",
       " ('143', ['real', 'attention']),\n",
       " ('144', ['hitler']),\n",
       " ('145', ['attacked', 'blocking']),\n",
       " ('146', ['top']),\n",
       " ('147', ['attack', 'hatred']),\n",
       " ('148',\n",
       "  ['horrible', 'cowardly', 'terrorist', 'attack', 'defenseless', 'cannot']),\n",
       " ('149', [\"won't\"]),\n",
       " ('150', ['but', \"won't\"]),\n",
       " ('151', ['sad', 'afraid']),\n",
       " ('156',\n",
       "  ['horrible', 'cowardly', 'terrorist', 'attack', 'defenseless', 'cannot']),\n",
       " ('157', ['sure', 'major']),\n",
       " ('158', ['but']),\n",
       " ('159', ['fucking', 'embarrasment']),\n",
       " ('160', ['no', \"wouldn't\"]),\n",
       " ('161', ['GOAT']),\n",
       " ('162', ['trash']),\n",
       " ('163', ['fuck']),\n",
       " ('164', ['funny']),\n",
       " ('165', ['fake', 'remove']),\n",
       " ('166', ['sorry', 'without', 'accusations']),\n",
       " ('167', ['but']),\n",
       " ('168', ['bellend']),\n",
       " ('169', ['PROBABLY']),\n",
       " ('170', ['gay']),\n",
       " ('171', ['insecure']),\n",
       " ('172', [\"won't\"]),\n",
       " ('173', ['craes', 'more', 'popularity']),\n",
       " ('174', ['good', 'everyone']),\n",
       " ('175', ['corrupt', 'busted', 'locked', 'RATS']),\n",
       " ('176', ['corrupt', 'busted', 'locked', 'RATS']),\n",
       " ('177', ['wrong']),\n",
       " ('178', ['indicted']),\n",
       " ('179', ['Not', 'Delusional', 'grandeur']),\n",
       " ('180', [\"won't\"]),\n",
       " ('181', ['loved']),\n",
       " ('182', ['play']),\n",
       " ('183', ['but', \"won't\"]),\n",
       " ('184', [\"won't\"]),\n",
       " ('185', [\"won't\"]),\n",
       " ('186', ['']),\n",
       " ('187', ['healthy', 'possible']),\n",
       " ('188', ['']),\n",
       " ('189', ['mess']),\n",
       " ('190', ['coincidence', 'exact']),\n",
       " ('191', ['']),\n",
       " ('192', ['burn']),\n",
       " ('193', [\"Don't\", 'languish']),\n",
       " ('194', ['traitor', 'no right']),\n",
       " ('195', ['sorry']),\n",
       " ('196', ['forgive', 'fake']),\n",
       " ('197', ['']),\n",
       " ('198', [\"won't\"]),\n",
       " ('199', ['popularity']),\n",
       " ('200', ['']),\n",
       " ('201', ['unfunny', 'meme']),\n",
       " ('202', ['great']),\n",
       " ('203', ['pathological']),\n",
       " ('204', ['bring it on']),\n",
       " ('205', ['great']),\n",
       " ('206', ['blast']),\n",
       " ('207', ['sexual predator', 'con-man']),\n",
       " ('208', ['']),\n",
       " ('209', ['awesome', 'respect']),\n",
       " ('210', ['turn down']),\n",
       " ('211', ['more', 'believed']),\n",
       " ('212', ['mess']),\n",
       " ('213', ['great']),\n",
       " ('214', ['exactly', 'like']),\n",
       " ('215', ['no', 'hell']),\n",
       " ('216', ['pathetic']),\n",
       " ('217', ['nobody', 'fake']),\n",
       " ('218', ['']),\n",
       " ('219', ['']),\n",
       " ('220', ['freedoms', 'afforded']),\n",
       " ('221', ['lying', 'idiot']),\n",
       " ('222', ['']),\n",
       " ('223', ['more popular']),\n",
       " ('224', ['']),\n",
       " ('225', ['']),\n",
       " ('226', ['cares more']),\n",
       " ('227', ['']),\n",
       " ('228', ['severe mental disorder', 'disorder']),\n",
       " ('229', ['']),\n",
       " ('230', ['smart']),\n",
       " ('231', ['disrespect', 'penalty'])]"
      ]
     },
     "execution_count": 12,
     "metadata": {},
     "output_type": "execute_result"
    }
   ],
   "source": [
    "Rationales"
   ]
  },
  {
   "cell_type": "markdown",
   "metadata": {},
   "source": [
    "## TweetID provided to all Tweets"
   ]
  },
  {
   "cell_type": "code",
   "execution_count": 13,
   "metadata": {
    "collapsed": false
   },
   "outputs": [],
   "source": [
    "data = pd.DataFrame(Rationales,columns=[\"TweetID\",\"Rationales\"])"
   ]
  },
  {
   "cell_type": "code",
   "execution_count": 14,
   "metadata": {
    "collapsed": false
   },
   "outputs": [],
   "source": [
    "data.to_csv(\"output2.csv\",index=False)"
   ]
  },
  {
   "cell_type": "code",
   "execution_count": 15,
   "metadata": {
    "collapsed": true
   },
   "outputs": [],
   "source": [
    "data = pd.read_csv(\"output2.csv\")"
   ]
  },
  {
   "cell_type": "code",
   "execution_count": 16,
   "metadata": {
    "collapsed": false,
    "scrolled": true
   },
   "outputs": [
    {
     "data": {
      "text/html": [
       "<div>\n",
       "<table border=\"1\" class=\"dataframe\">\n",
       "  <thead>\n",
       "    <tr style=\"text-align: right;\">\n",
       "      <th></th>\n",
       "      <th>TweetID</th>\n",
       "      <th>Rationales</th>\n",
       "    </tr>\n",
       "  </thead>\n",
       "  <tbody>\n",
       "    <tr>\n",
       "      <th>0</th>\n",
       "      <td>1</td>\n",
       "      <td>['bastard', 'dirty', 'theif', 'hustler']</td>\n",
       "    </tr>\n",
       "    <tr>\n",
       "      <th>1</th>\n",
       "      <td>2</td>\n",
       "      <td>[\"didn't\"]</td>\n",
       "    </tr>\n",
       "    <tr>\n",
       "      <th>2</th>\n",
       "      <td>3</td>\n",
       "      <td>[\"won't\", 'but']</td>\n",
       "    </tr>\n",
       "    <tr>\n",
       "      <th>3</th>\n",
       "      <td>4</td>\n",
       "      <td>[\"won't\", 'but']</td>\n",
       "    </tr>\n",
       "    <tr>\n",
       "      <th>4</th>\n",
       "      <td>5</td>\n",
       "      <td>['']</td>\n",
       "    </tr>\n",
       "  </tbody>\n",
       "</table>\n",
       "</div>"
      ],
      "text/plain": [
       "   TweetID                                Rationales\n",
       "0        1  ['bastard', 'dirty', 'theif', 'hustler']\n",
       "1        2                                [\"didn't\"]\n",
       "2        3                          [\"won't\", 'but']\n",
       "3        4                          [\"won't\", 'but']\n",
       "4        5                                      ['']"
      ]
     },
     "execution_count": 16,
     "metadata": {},
     "output_type": "execute_result"
    }
   ],
   "source": [
    "data.head()"
   ]
  },
  {
   "cell_type": "code",
   "execution_count": 17,
   "metadata": {
    "collapsed": false
   },
   "outputs": [
    {
     "name": "stderr",
     "output_type": "stream",
     "text": [
      "C:\\Users\\Parth\\Anaconda3\\lib\\site-packages\\pandas\\core\\indexing.py:141: SettingWithCopyWarning: \n",
      "A value is trying to be set on a copy of a slice from a DataFrame\n",
      "\n",
      "See the caveats in the documentation: http://pandas.pydata.org/pandas-docs/stable/indexing.html#indexing-view-versus-copy\n",
      "  self._setitem_with_indexer(indexer, value)\n"
     ]
    }
   ],
   "source": [
    "for i in range(0,len(data)):\n",
    "    data['TweetID'].iloc[i] = i"
   ]
  },
  {
   "cell_type": "code",
   "execution_count": 18,
   "metadata": {
    "collapsed": false
   },
   "outputs": [
    {
     "data": {
      "text/html": [
       "<div>\n",
       "<table border=\"1\" class=\"dataframe\">\n",
       "  <thead>\n",
       "    <tr style=\"text-align: right;\">\n",
       "      <th></th>\n",
       "      <th>TweetID</th>\n",
       "      <th>Rationales</th>\n",
       "    </tr>\n",
       "  </thead>\n",
       "  <tbody>\n",
       "    <tr>\n",
       "      <th>0</th>\n",
       "      <td>0</td>\n",
       "      <td>['bastard', 'dirty', 'theif', 'hustler']</td>\n",
       "    </tr>\n",
       "    <tr>\n",
       "      <th>1</th>\n",
       "      <td>1</td>\n",
       "      <td>[\"didn't\"]</td>\n",
       "    </tr>\n",
       "    <tr>\n",
       "      <th>2</th>\n",
       "      <td>2</td>\n",
       "      <td>[\"won't\", 'but']</td>\n",
       "    </tr>\n",
       "    <tr>\n",
       "      <th>3</th>\n",
       "      <td>3</td>\n",
       "      <td>[\"won't\", 'but']</td>\n",
       "    </tr>\n",
       "    <tr>\n",
       "      <th>4</th>\n",
       "      <td>4</td>\n",
       "      <td>['']</td>\n",
       "    </tr>\n",
       "  </tbody>\n",
       "</table>\n",
       "</div>"
      ],
      "text/plain": [
       "   TweetID                                Rationales\n",
       "0        0  ['bastard', 'dirty', 'theif', 'hustler']\n",
       "1        1                                [\"didn't\"]\n",
       "2        2                          [\"won't\", 'but']\n",
       "3        3                          [\"won't\", 'but']\n",
       "4        4                                      ['']"
      ]
     },
     "execution_count": 18,
     "metadata": {},
     "output_type": "execute_result"
    }
   ],
   "source": [
    "data.head()"
   ]
  },
  {
   "cell_type": "markdown",
   "metadata": {},
   "source": [
    "## Feature Extraction using Count Vectorizer"
   ]
  },
  {
   "cell_type": "code",
   "execution_count": 19,
   "metadata": {
    "collapsed": false
   },
   "outputs": [],
   "source": [
    "from sklearn.feature_extraction.text import CountVectorizer\n",
    "import nltk\n",
    "import re"
   ]
  },
  {
   "cell_type": "code",
   "execution_count": 20,
   "metadata": {
    "collapsed": true
   },
   "outputs": [],
   "source": [
    "from nltk.stem.snowball import EnglishStemmer\n",
    "\n",
    "stemmer = EnglishStemmer()\n",
    "analyzer = CountVectorizer(preprocessor=lambda x: re.sub(r'(\\d[\\d\\.])+', '', x.lower()),\n",
    "                            stop_words='english',lowercase=True,ngram_range=(1,1),\n",
    "                            token_pattern=u'(?u)\\\\b\\\\w\\\\w+\\\\b').build_analyzer()\n",
    "\n",
    "def stemmed_words(doc):\n",
    "    return (stemmer.stem(w) for w in analyzer(doc))"
   ]
  },
  {
   "cell_type": "code",
   "execution_count": 21,
   "metadata": {
    "collapsed": true
   },
   "outputs": [],
   "source": [
    "vectorizer = CountVectorizer(analyzer=stemmed_words,min_df=3)"
   ]
  },
  {
   "cell_type": "code",
   "execution_count": 22,
   "metadata": {
    "collapsed": false
   },
   "outputs": [],
   "source": [
    "res = vectorizer.fit_transform(answer['tweet'].values)"
   ]
  },
  {
   "cell_type": "code",
   "execution_count": 23,
   "metadata": {
    "collapsed": false
   },
   "outputs": [],
   "source": [
    "from pandas import DataFrame\n",
    "labels = DataFrame(answer.Sentiment.map(dict(positive=1, negative=0)))"
   ]
  },
  {
   "cell_type": "code",
   "execution_count": 24,
   "metadata": {
    "collapsed": false
   },
   "outputs": [],
   "source": [
    "da = DataFrame(res.A, columns=vectorizer.get_feature_names())"
   ]
  },
  {
   "cell_type": "code",
   "execution_count": 25,
   "metadata": {
    "collapsed": true
   },
   "outputs": [],
   "source": [
    "import numpy as np\n",
    "da['Sentiment'] = np.array(labels)"
   ]
  },
  {
   "cell_type": "markdown",
   "metadata": {},
   "source": [
    "# dataset for learning without rationales"
   ]
  },
  {
   "cell_type": "code",
   "execution_count": 26,
   "metadata": {
    "collapsed": false,
    "scrolled": true
   },
   "outputs": [
    {
     "data": {
      "text/html": [
       "<div>\n",
       "<table border=\"1\" class=\"dataframe\">\n",
       "  <thead>\n",
       "    <tr style=\"text-align: right;\">\n",
       "      <th></th>\n",
       "      <th>2christian</th>\n",
       "      <th>absolut</th>\n",
       "      <th>accept</th>\n",
       "      <th>accus</th>\n",
       "      <th>actual</th>\n",
       "      <th>afraid</th>\n",
       "      <th>agre</th>\n",
       "      <th>agsess</th>\n",
       "      <th>allow</th>\n",
       "      <th>alozrast</th>\n",
       "      <th>...</th>\n",
       "      <th>xf0</th>\n",
       "      <th>xll</th>\n",
       "      <th>xm</th>\n",
       "      <th>xre</th>\n",
       "      <th>xs</th>\n",
       "      <th>xt</th>\n",
       "      <th>yeah</th>\n",
       "      <th>year</th>\n",
       "      <th>yes</th>\n",
       "      <th>Sentiment</th>\n",
       "    </tr>\n",
       "  </thead>\n",
       "  <tbody>\n",
       "    <tr>\n",
       "      <th>0</th>\n",
       "      <td>0</td>\n",
       "      <td>0</td>\n",
       "      <td>0</td>\n",
       "      <td>0</td>\n",
       "      <td>0</td>\n",
       "      <td>0</td>\n",
       "      <td>0</td>\n",
       "      <td>0</td>\n",
       "      <td>0</td>\n",
       "      <td>0</td>\n",
       "      <td>...</td>\n",
       "      <td>0</td>\n",
       "      <td>0</td>\n",
       "      <td>0</td>\n",
       "      <td>0</td>\n",
       "      <td>0</td>\n",
       "      <td>0</td>\n",
       "      <td>0</td>\n",
       "      <td>0</td>\n",
       "      <td>0</td>\n",
       "      <td>0</td>\n",
       "    </tr>\n",
       "    <tr>\n",
       "      <th>1</th>\n",
       "      <td>0</td>\n",
       "      <td>0</td>\n",
       "      <td>0</td>\n",
       "      <td>0</td>\n",
       "      <td>0</td>\n",
       "      <td>0</td>\n",
       "      <td>0</td>\n",
       "      <td>0</td>\n",
       "      <td>0</td>\n",
       "      <td>0</td>\n",
       "      <td>...</td>\n",
       "      <td>0</td>\n",
       "      <td>0</td>\n",
       "      <td>0</td>\n",
       "      <td>0</td>\n",
       "      <td>0</td>\n",
       "      <td>0</td>\n",
       "      <td>0</td>\n",
       "      <td>0</td>\n",
       "      <td>0</td>\n",
       "      <td>1</td>\n",
       "    </tr>\n",
       "    <tr>\n",
       "      <th>2</th>\n",
       "      <td>0</td>\n",
       "      <td>0</td>\n",
       "      <td>0</td>\n",
       "      <td>0</td>\n",
       "      <td>0</td>\n",
       "      <td>0</td>\n",
       "      <td>0</td>\n",
       "      <td>0</td>\n",
       "      <td>0</td>\n",
       "      <td>0</td>\n",
       "      <td>...</td>\n",
       "      <td>0</td>\n",
       "      <td>0</td>\n",
       "      <td>0</td>\n",
       "      <td>0</td>\n",
       "      <td>0</td>\n",
       "      <td>0</td>\n",
       "      <td>0</td>\n",
       "      <td>0</td>\n",
       "      <td>0</td>\n",
       "      <td>1</td>\n",
       "    </tr>\n",
       "    <tr>\n",
       "      <th>3</th>\n",
       "      <td>0</td>\n",
       "      <td>0</td>\n",
       "      <td>0</td>\n",
       "      <td>0</td>\n",
       "      <td>0</td>\n",
       "      <td>0</td>\n",
       "      <td>0</td>\n",
       "      <td>0</td>\n",
       "      <td>0</td>\n",
       "      <td>0</td>\n",
       "      <td>...</td>\n",
       "      <td>0</td>\n",
       "      <td>0</td>\n",
       "      <td>0</td>\n",
       "      <td>0</td>\n",
       "      <td>0</td>\n",
       "      <td>0</td>\n",
       "      <td>0</td>\n",
       "      <td>2</td>\n",
       "      <td>0</td>\n",
       "      <td>0</td>\n",
       "    </tr>\n",
       "    <tr>\n",
       "      <th>4</th>\n",
       "      <td>0</td>\n",
       "      <td>0</td>\n",
       "      <td>0</td>\n",
       "      <td>0</td>\n",
       "      <td>0</td>\n",
       "      <td>0</td>\n",
       "      <td>0</td>\n",
       "      <td>0</td>\n",
       "      <td>0</td>\n",
       "      <td>0</td>\n",
       "      <td>...</td>\n",
       "      <td>0</td>\n",
       "      <td>0</td>\n",
       "      <td>0</td>\n",
       "      <td>0</td>\n",
       "      <td>0</td>\n",
       "      <td>0</td>\n",
       "      <td>0</td>\n",
       "      <td>0</td>\n",
       "      <td>0</td>\n",
       "      <td>0</td>\n",
       "    </tr>\n",
       "  </tbody>\n",
       "</table>\n",
       "<p>5 rows × 437 columns</p>\n",
       "</div>"
      ],
      "text/plain": [
       "   2christian  absolut  accept  accus  actual  afraid  agre  agsess  allow  \\\n",
       "0           0        0       0      0       0       0     0       0      0   \n",
       "1           0        0       0      0       0       0     0       0      0   \n",
       "2           0        0       0      0       0       0     0       0      0   \n",
       "3           0        0       0      0       0       0     0       0      0   \n",
       "4           0        0       0      0       0       0     0       0      0   \n",
       "\n",
       "   alozrast    ...      xf0  xll  xm  xre  xs  xt  yeah  year  yes  Sentiment  \n",
       "0         0    ...        0    0   0    0   0   0     0     0    0          0  \n",
       "1         0    ...        0    0   0    0   0   0     0     0    0          1  \n",
       "2         0    ...        0    0   0    0   0   0     0     0    0          1  \n",
       "3         0    ...        0    0   0    0   0   0     0     2    0          0  \n",
       "4         0    ...        0    0   0    0   0   0     0     0    0          0  \n",
       "\n",
       "[5 rows x 437 columns]"
      ]
     },
     "execution_count": 26,
     "metadata": {},
     "output_type": "execute_result"
    }
   ],
   "source": [
    "da.head()"
   ]
  },
  {
   "cell_type": "code",
   "execution_count": 397,
   "metadata": {
    "collapsed": false
   },
   "outputs": [],
   "source": [
    "rational_da = da.copy(deep=True)\n",
    "l = []\n",
    "for i in range(0,len(Rationales)):\n",
    "    rs = []\n",
    "    for j in Rationales[i][1]:\n",
    "        rs += nltk.word_tokenize(j)\n",
    "    rational = set(rs) & set(da.columns)\n",
    "    if(len(rational)>0):\n",
    "        l.append(rational)\n",
    "    #print (str(i)+\" \"+str(list(rational)))\n",
    "    r = [1*da['%s'%x].iloc[i] if x in rational else 0.001*da['%s'%x].iloc[i] for x in list(da.drop(['Sentiment'],axis=1).columns)]\n",
    "    r.append(da['Sentiment'].iloc[i])\n",
    "    rational_da.iloc[i] = r\n",
    "    #print (da['realdonaldtrump'].iloc[i])"
   ]
  },
  {
   "cell_type": "markdown",
   "metadata": {},
   "source": [
    "# dataset for learning with rationales"
   ]
  },
  {
   "cell_type": "code",
   "execution_count": 398,
   "metadata": {
    "collapsed": false
   },
   "outputs": [
    {
     "data": {
      "text/html": [
       "<div>\n",
       "<table border=\"1\" class=\"dataframe\">\n",
       "  <thead>\n",
       "    <tr style=\"text-align: right;\">\n",
       "      <th></th>\n",
       "      <th>2christian</th>\n",
       "      <th>absolut</th>\n",
       "      <th>accept</th>\n",
       "      <th>accus</th>\n",
       "      <th>actual</th>\n",
       "      <th>afraid</th>\n",
       "      <th>agre</th>\n",
       "      <th>agsess</th>\n",
       "      <th>allow</th>\n",
       "      <th>alozrast</th>\n",
       "      <th>...</th>\n",
       "      <th>xf0</th>\n",
       "      <th>xll</th>\n",
       "      <th>xm</th>\n",
       "      <th>xre</th>\n",
       "      <th>xs</th>\n",
       "      <th>xt</th>\n",
       "      <th>yeah</th>\n",
       "      <th>year</th>\n",
       "      <th>yes</th>\n",
       "      <th>Sentiment</th>\n",
       "    </tr>\n",
       "  </thead>\n",
       "  <tbody>\n",
       "    <tr>\n",
       "      <th>0</th>\n",
       "      <td>0.0</td>\n",
       "      <td>0.0</td>\n",
       "      <td>0.0</td>\n",
       "      <td>0.0</td>\n",
       "      <td>0.0</td>\n",
       "      <td>0.0</td>\n",
       "      <td>0.0</td>\n",
       "      <td>0.0</td>\n",
       "      <td>0.0</td>\n",
       "      <td>0.0</td>\n",
       "      <td>...</td>\n",
       "      <td>0.0</td>\n",
       "      <td>0.0</td>\n",
       "      <td>0.0</td>\n",
       "      <td>0.0</td>\n",
       "      <td>0.0</td>\n",
       "      <td>0.0</td>\n",
       "      <td>0.0</td>\n",
       "      <td>0.000</td>\n",
       "      <td>0.0</td>\n",
       "      <td>0</td>\n",
       "    </tr>\n",
       "    <tr>\n",
       "      <th>1</th>\n",
       "      <td>0.0</td>\n",
       "      <td>0.0</td>\n",
       "      <td>0.0</td>\n",
       "      <td>0.0</td>\n",
       "      <td>0.0</td>\n",
       "      <td>0.0</td>\n",
       "      <td>0.0</td>\n",
       "      <td>0.0</td>\n",
       "      <td>0.0</td>\n",
       "      <td>0.0</td>\n",
       "      <td>...</td>\n",
       "      <td>0.0</td>\n",
       "      <td>0.0</td>\n",
       "      <td>0.0</td>\n",
       "      <td>0.0</td>\n",
       "      <td>0.0</td>\n",
       "      <td>0.0</td>\n",
       "      <td>0.0</td>\n",
       "      <td>0.000</td>\n",
       "      <td>0.0</td>\n",
       "      <td>1</td>\n",
       "    </tr>\n",
       "    <tr>\n",
       "      <th>2</th>\n",
       "      <td>0.0</td>\n",
       "      <td>0.0</td>\n",
       "      <td>0.0</td>\n",
       "      <td>0.0</td>\n",
       "      <td>0.0</td>\n",
       "      <td>0.0</td>\n",
       "      <td>0.0</td>\n",
       "      <td>0.0</td>\n",
       "      <td>0.0</td>\n",
       "      <td>0.0</td>\n",
       "      <td>...</td>\n",
       "      <td>0.0</td>\n",
       "      <td>0.0</td>\n",
       "      <td>0.0</td>\n",
       "      <td>0.0</td>\n",
       "      <td>0.0</td>\n",
       "      <td>0.0</td>\n",
       "      <td>0.0</td>\n",
       "      <td>0.000</td>\n",
       "      <td>0.0</td>\n",
       "      <td>1</td>\n",
       "    </tr>\n",
       "    <tr>\n",
       "      <th>3</th>\n",
       "      <td>0.0</td>\n",
       "      <td>0.0</td>\n",
       "      <td>0.0</td>\n",
       "      <td>0.0</td>\n",
       "      <td>0.0</td>\n",
       "      <td>0.0</td>\n",
       "      <td>0.0</td>\n",
       "      <td>0.0</td>\n",
       "      <td>0.0</td>\n",
       "      <td>0.0</td>\n",
       "      <td>...</td>\n",
       "      <td>0.0</td>\n",
       "      <td>0.0</td>\n",
       "      <td>0.0</td>\n",
       "      <td>0.0</td>\n",
       "      <td>0.0</td>\n",
       "      <td>0.0</td>\n",
       "      <td>0.0</td>\n",
       "      <td>0.002</td>\n",
       "      <td>0.0</td>\n",
       "      <td>0</td>\n",
       "    </tr>\n",
       "    <tr>\n",
       "      <th>4</th>\n",
       "      <td>0.0</td>\n",
       "      <td>0.0</td>\n",
       "      <td>0.0</td>\n",
       "      <td>0.0</td>\n",
       "      <td>0.0</td>\n",
       "      <td>0.0</td>\n",
       "      <td>0.0</td>\n",
       "      <td>0.0</td>\n",
       "      <td>0.0</td>\n",
       "      <td>0.0</td>\n",
       "      <td>...</td>\n",
       "      <td>0.0</td>\n",
       "      <td>0.0</td>\n",
       "      <td>0.0</td>\n",
       "      <td>0.0</td>\n",
       "      <td>0.0</td>\n",
       "      <td>0.0</td>\n",
       "      <td>0.0</td>\n",
       "      <td>0.000</td>\n",
       "      <td>0.0</td>\n",
       "      <td>0</td>\n",
       "    </tr>\n",
       "  </tbody>\n",
       "</table>\n",
       "<p>5 rows × 437 columns</p>\n",
       "</div>"
      ],
      "text/plain": [
       "   2christian  absolut  accept  accus  actual  afraid  agre  agsess  allow  \\\n",
       "0         0.0      0.0     0.0    0.0     0.0     0.0   0.0     0.0    0.0   \n",
       "1         0.0      0.0     0.0    0.0     0.0     0.0   0.0     0.0    0.0   \n",
       "2         0.0      0.0     0.0    0.0     0.0     0.0   0.0     0.0    0.0   \n",
       "3         0.0      0.0     0.0    0.0     0.0     0.0   0.0     0.0    0.0   \n",
       "4         0.0      0.0     0.0    0.0     0.0     0.0   0.0     0.0    0.0   \n",
       "\n",
       "   alozrast    ...      xf0  xll   xm  xre   xs   xt  yeah   year  yes  \\\n",
       "0       0.0    ...      0.0  0.0  0.0  0.0  0.0  0.0   0.0  0.000  0.0   \n",
       "1       0.0    ...      0.0  0.0  0.0  0.0  0.0  0.0   0.0  0.000  0.0   \n",
       "2       0.0    ...      0.0  0.0  0.0  0.0  0.0  0.0   0.0  0.000  0.0   \n",
       "3       0.0    ...      0.0  0.0  0.0  0.0  0.0  0.0   0.0  0.002  0.0   \n",
       "4       0.0    ...      0.0  0.0  0.0  0.0  0.0  0.0   0.0  0.000  0.0   \n",
       "\n",
       "   Sentiment  \n",
       "0          0  \n",
       "1          1  \n",
       "2          1  \n",
       "3          0  \n",
       "4          0  \n",
       "\n",
       "[5 rows x 437 columns]"
      ]
     },
     "execution_count": 398,
     "metadata": {},
     "output_type": "execute_result"
    }
   ],
   "source": [
    "rational_da.head()"
   ]
  },
  {
   "cell_type": "code",
   "execution_count": 399,
   "metadata": {
    "collapsed": false
   },
   "outputs": [],
   "source": [
    "rational_da['Sentiment'] = np.array(labels)"
   ]
  },
  {
   "cell_type": "code",
   "execution_count": 499,
   "metadata": {
    "collapsed": true
   },
   "outputs": [],
   "source": [
    "from sklearn.model_selection import train_test_split\n",
    "from sklearn.linear_model import LogisticRegression\n",
    "from sklearn import linear_model\n",
    "from sklearn.metrics import accuracy_score"
   ]
  },
  {
   "cell_type": "markdown",
   "metadata": {},
   "source": [
    "## Logistic Regression (Penalty= L2)"
   ]
  },
  {
   "cell_type": "code",
   "execution_count": 622,
   "metadata": {
    "collapsed": false
   },
   "outputs": [],
   "source": [
    "clf_lr2 = linear_model.LogisticRegression(penalty = 'l2',C=0.01)"
   ]
  },
  {
   "cell_type": "code",
   "execution_count": 623,
   "metadata": {
    "collapsed": false
   },
   "outputs": [
    {
     "data": {
      "text/plain": [
       "0.69158878504672894"
      ]
     },
     "execution_count": 623,
     "metadata": {},
     "output_type": "execute_result"
    }
   ],
   "source": [
    "df_train = da[0:50]\n",
    "df_test = da[50:799]\n",
    "clf_lr2.fit(df_train.drop(['Sentiment'],axis=1),df_train['Sentiment'])\n",
    "clf_pred = clf_lr2.predict(df_test.drop(['Sentiment'],axis=1))\n",
    "accuracy2 = accuracy_score(df_test['Sentiment'],clf_pred)\n",
    "accuracy2"
   ]
  },
  {
   "cell_type": "code",
   "execution_count": 624,
   "metadata": {
    "collapsed": false
   },
   "outputs": [
    {
     "data": {
      "text/plain": [
       "0.69957081545064381"
      ]
     },
     "execution_count": 624,
     "metadata": {},
     "output_type": "execute_result"
    }
   ],
   "source": [
    "df_train = da[0:100]\n",
    "df_test = da[100:799]\n",
    "clf_lr2.fit(df_train.drop(['Sentiment'],axis=1),df_train['Sentiment'])\n",
    "clf_pred = clf_lr2.predict(df_test.drop(['Sentiment'],axis=1))\n",
    "accuracy3 = accuracy_score(df_test['Sentiment'],clf_pred)\n",
    "accuracy3"
   ]
  },
  {
   "cell_type": "code",
   "execution_count": 625,
   "metadata": {
    "collapsed": false
   },
   "outputs": [
    {
     "data": {
      "text/plain": [
       "0.70261941448382126"
      ]
     },
     "execution_count": 625,
     "metadata": {},
     "output_type": "execute_result"
    }
   ],
   "source": [
    "df_train = da[0:150]\n",
    "df_test = da[150:799]\n",
    "clf_lr2.fit(df_train.drop(['Sentiment'],axis=1),df_train['Sentiment'])\n",
    "clf_pred = clf_lr2.predict(df_test.drop(['Sentiment'],axis=1))\n",
    "accuracy4 = accuracy_score(df_test['Sentiment'],clf_pred)\n",
    "accuracy4"
   ]
  },
  {
   "cell_type": "code",
   "execution_count": 626,
   "metadata": {
    "collapsed": false
   },
   "outputs": [
    {
     "data": {
      "text/plain": [
       "0.69616026711185308"
      ]
     },
     "execution_count": 626,
     "metadata": {},
     "output_type": "execute_result"
    }
   ],
   "source": [
    "df_train = da[0:200]\n",
    "df_test = da[200:799]\n",
    "clf_lr2.fit(df_train.drop(['Sentiment'],axis=1),df_train['Sentiment'])\n",
    "clf_pred = clf_lr2.predict(df_test.drop(['Sentiment'],axis=1))\n",
    "accuracy5 = accuracy_score(df_test['Sentiment'],clf_pred)\n",
    "accuracy5"
   ]
  },
  {
   "cell_type": "code",
   "execution_count": 627,
   "metadata": {
    "collapsed": false
   },
   "outputs": [
    {
     "data": {
      "text/plain": [
       "0.70629370629370625"
      ]
     },
     "execution_count": 627,
     "metadata": {},
     "output_type": "execute_result"
    }
   ],
   "source": [
    "df_train = da[0:227]\n",
    "df_test = da[227:799]\n",
    "clf_lr2.fit(df_train.drop(['Sentiment'],axis=1),df_train['Sentiment'])\n",
    "clf_pred = clf_lr2.predict(df_test.drop(['Sentiment'],axis=1))\n",
    "accuracy6 = accuracy_score(df_test['Sentiment'],clf_pred)\n",
    "accuracy6"
   ]
  },
  {
   "cell_type": "code",
   "execution_count": 628,
   "metadata": {
    "collapsed": false
   },
   "outputs": [],
   "source": [
    "accuracy_LWoR = [accuracy2,accuracy3, accuracy4, accuracy5,accuracy6]"
   ]
  },
  {
   "cell_type": "code",
   "execution_count": 629,
   "metadata": {
    "collapsed": false
   },
   "outputs": [
    {
     "data": {
      "text/plain": [
       "[0.69158878504672894,\n",
       " 0.69957081545064381,\n",
       " 0.70261941448382126,\n",
       " 0.69616026711185308,\n",
       " 0.70629370629370625]"
      ]
     },
     "execution_count": 629,
     "metadata": {},
     "output_type": "execute_result"
    }
   ],
   "source": [
    "accuracy_LWoR"
   ]
  },
  {
   "cell_type": "code",
   "execution_count": 630,
   "metadata": {
    "collapsed": false
   },
   "outputs": [
    {
     "name": "stdout",
     "output_type": "stream",
     "text": [
      "Top 10 positive features with LWOR:\n",
      "\n",
      "popular 0.0492845493472\n",
      "great 0.0382773517571\n",
      "good 0.0305914238414\n",
      "newsweek 0.026763781826\n",
      "impeachtrump 0.026763781826\n",
      "surpris 0.026763781826\n",
      "caffpeej 0.026763781826\n",
      "barackobama 0.026763781826\n",
      "love 0.0242696378028\n",
      "exact 0.0231609072056\n",
      "\n",
      "\n",
      "\n",
      "Top 10 Negative features with LWR:\n",
      "\n",
      "year -0.141078965248\n",
      "realdonaldtrump -0.11091909524\n",
      "xe2 -0.104996608228\n",
      "magazin -0.071830576357\n",
      "person -0.0695037682849\n",
      "say -0.0688082362884\n",
      "go -0.0669905464225\n",
      "name -0.0642290147794\n",
      "x9cman -0.0604644365199\n",
      "call -0.0603547912273\n"
     ]
    }
   ],
   "source": [
    "print (\"Top 10 positive features with LWOR:\\n\")\n",
    "p_i = list(np.argsort(clf_lr2.coef_[0]))[::-1][:10]\n",
    "p_coef = clf_lr2.coef_[0][p_i]\n",
    "for i in range(0,len(p_i)):\n",
    "    print (df_train.columns[p_i[i]]+\" \"+str(p_coef[i]))\n",
    "print (\"\\n\\n\")\n",
    "print (\"Top 10 Negative features with LWR:\\n\")\n",
    "n_i = list(np.argsort(clf_lr2.coef_[0]))[:10]\n",
    "n_coef = clf_lr2.coef_[0][n_i]\n",
    "for i in range(0,len(n_i)):\n",
    "    print (df_train.columns[n_i[i]]+\" \"+str(n_coef[i]))"
   ]
  },
  {
   "cell_type": "code",
   "execution_count": 631,
   "metadata": {
    "collapsed": true
   },
   "outputs": [],
   "source": [
    "clf_lr2 = linear_model.LogisticRegression(penalty = 'l2',C=0.01)"
   ]
  },
  {
   "cell_type": "code",
   "execution_count": 632,
   "metadata": {
    "collapsed": false
   },
   "outputs": [
    {
     "data": {
      "text/plain": [
       "0.69559412550066757"
      ]
     },
     "execution_count": 632,
     "metadata": {},
     "output_type": "execute_result"
    }
   ],
   "source": [
    "df_train = rational_da[0:50]\n",
    "df_test = rational_da[50:799]\n",
    "clf_lr2.fit(df_train.drop(['Sentiment'],axis=1),df_train['Sentiment'])\n",
    "clf_pred = clf_lr2.predict(df_test.drop(['Sentiment'],axis=1))\n",
    "accuracy2 = accuracy_score(df_test['Sentiment'],clf_pred)\n",
    "accuracy2"
   ]
  },
  {
   "cell_type": "code",
   "execution_count": 633,
   "metadata": {
    "collapsed": false
   },
   "outputs": [
    {
     "data": {
      "text/plain": [
       "0.69957081545064381"
      ]
     },
     "execution_count": 633,
     "metadata": {},
     "output_type": "execute_result"
    }
   ],
   "source": [
    "df_train = rational_da[0:100]\n",
    "df_test = rational_da[100:799]\n",
    "clf_lr2.fit(df_train.drop(['Sentiment'],axis=1),df_train['Sentiment'])\n",
    "clf_pred = clf_lr2.predict(df_test.drop(['Sentiment'],axis=1))\n",
    "accuracy3 = accuracy_score(df_test['Sentiment'],clf_pred)\n",
    "accuracy3"
   ]
  },
  {
   "cell_type": "code",
   "execution_count": 634,
   "metadata": {
    "collapsed": false
   },
   "outputs": [
    {
     "data": {
      "text/plain": [
       "0.70416024653312792"
      ]
     },
     "execution_count": 634,
     "metadata": {},
     "output_type": "execute_result"
    }
   ],
   "source": [
    "df_train = rational_da[0:150]\n",
    "df_test = rational_da[150:799]\n",
    "clf_lr2.fit(df_train.drop(['Sentiment'],axis=1),df_train['Sentiment'])\n",
    "clf_pred = clf_lr2.predict(df_test.drop(['Sentiment'],axis=1))\n",
    "accuracy4 = accuracy_score(df_test['Sentiment'],clf_pred)\n",
    "accuracy4"
   ]
  },
  {
   "cell_type": "code",
   "execution_count": 635,
   "metadata": {
    "collapsed": false
   },
   "outputs": [
    {
     "data": {
      "text/plain": [
       "0.69616026711185308"
      ]
     },
     "execution_count": 635,
     "metadata": {},
     "output_type": "execute_result"
    }
   ],
   "source": [
    "df_train = rational_da[0:200]\n",
    "df_test = rational_da[200:799]\n",
    "clf_lr2.fit(df_train.drop(['Sentiment'],axis=1),df_train['Sentiment'])\n",
    "clf_pred = clf_lr2.predict(df_test.drop(['Sentiment'],axis=1))\n",
    "accuracy5 = accuracy_score(df_test['Sentiment'],clf_pred)\n",
    "accuracy5"
   ]
  },
  {
   "cell_type": "code",
   "execution_count": 636,
   "metadata": {
    "collapsed": false
   },
   "outputs": [
    {
     "data": {
      "text/plain": [
       "0.70629370629370625"
      ]
     },
     "execution_count": 636,
     "metadata": {},
     "output_type": "execute_result"
    }
   ],
   "source": [
    "df_train = rational_da[0:227]\n",
    "df_test = rational_da[227:799]\n",
    "clf_pred = clf_lr2.predict(df_test.drop(['Sentiment'],axis=1))\n",
    "accuracy6 = accuracy_score(df_test['Sentiment'],clf_pred)\n",
    "accuracy6"
   ]
  },
  {
   "cell_type": "code",
   "execution_count": 637,
   "metadata": {
    "collapsed": true
   },
   "outputs": [],
   "source": [
    "accuracy_LWR = [accuracy2, accuracy3,accuracy4, accuracy5, accuracy6]"
   ]
  },
  {
   "cell_type": "code",
   "execution_count": 638,
   "metadata": {
    "collapsed": false
   },
   "outputs": [
    {
     "data": {
      "text/plain": [
       "[0.69559412550066757,\n",
       " 0.69957081545064381,\n",
       " 0.70416024653312792,\n",
       " 0.69616026711185308,\n",
       " 0.70629370629370625]"
      ]
     },
     "execution_count": 638,
     "metadata": {},
     "output_type": "execute_result"
    }
   ],
   "source": [
    "accuracy_LWR"
   ]
  },
  {
   "cell_type": "code",
   "execution_count": 639,
   "metadata": {
    "collapsed": false
   },
   "outputs": [
    {
     "data": {
      "image/png": "[encoded data removed]",
      "text/plain": [
       "<matplotlib.figure.Figure at 0x2781152a400>"
      ]
     },
     "metadata": {},
     "output_type": "display_data"
    }
   ],
   "source": [
    "import matplotlib.pyplot as plt\n",
    "plt.title('Logistic regression(Penalty = L2)')\n",
    "irn = plt.plot([0,50,100,150,200],accuracy_LWR,color='blue', linewidth=1,label ='Learning with Rationales')\n",
    "ir = plt.plot([0,50,100,150,200],accuracy_LWoR,color='red', linewidth=1,label ='Learning without Rationales')\n",
    "plt.ylabel('Accuracy')\n",
    "plt.xlabel('number of documents')\n",
    "plt.xscale('linear')\n",
    "plt.legend()\n",
    "plt.show()"
   ]
  },
  {
   "cell_type": "code",
   "execution_count": 593,
   "metadata": {
    "collapsed": false
   },
   "outputs": [
    {
     "name": "stdout",
     "output_type": "stream",
     "text": [
      "Top 10 positive features with LWOR:\n",
      "\n",
      "good 0.0168409721622\n",
      "right 0.0112617306221\n",
      "sure 0.0112304597818\n",
      "love 0.00566442428944\n",
      "defeat 0.00564618039998\n",
      "class 0.00564183929316\n",
      "shit 0.00131369619087\n",
      "sad 0.00130506208793\n",
      "popular 2.26401007415e-05\n",
      "great 2.26400989152e-05\n",
      "\n",
      "\n",
      "\n",
      "Top 10 Negative features with LWR:\n",
      "\n",
      "wo -0.062861940316\n",
      "fake -0.0171891498404\n",
      "doubt -0.00864172547124\n",
      "turn -0.00863608017552\n",
      "attack -0.00435523428728\n",
      "lie -0.00434657582999\n",
      "defenseless -0.00434224418897\n",
      "narcissist -0.00433792755548\n",
      "wrong -0.0043379148511\n",
      "ego -0.00433359868205\n"
     ]
    }
   ],
   "source": [
    "print (\"Top 10 positive features with LWOR:\\n\")\n",
    "p_i = list(np.argsort(clf_lr2.coef_[0]))[::-1][:10]\n",
    "p_coef = clf_lr2.coef_[0][p_i]\n",
    "for i in range(0,len(p_i)):\n",
    "    print (df_train.columns[p_i[i]]+\" \"+str(p_coef[i]))\n",
    "print (\"\\n\\n\")\n",
    "print (\"Top 10 Negative features with LWR:\\n\")\n",
    "n_i = list(np.argsort(clf_lr2.coef_[0]))[:10]\n",
    "n_coef = clf_lr2.coef_[0][n_i]\n",
    "for i in range(0,len(n_i)):\n",
    "    print (df_train.columns[n_i[i]]+\" \"+str(n_coef[i]))"
   ]
  },
  {
   "cell_type": "markdown",
   "metadata": {
    "collapsed": true
   },
   "source": [
    "## Don't Run this Cell"
   ]
  },
  {
   "cell_type": "code",
   "execution_count": 519,
   "metadata": {
    "collapsed": false
   },
   "outputs": [
    {
     "data": {
      "image/png": "[encoded data removed]",
      "text/plain": [
       "<matplotlib.figure.Figure at 0x278123a0e48>"
      ]
     },
     "metadata": {},
     "output_type": "display_data"
    }
   ],
   "source": [
    "import matplotlib.pyplot as plt\n",
    "irn = plt.plot(accuracy_LWR,color='blue', linewidth=1)\n",
    "ir = plt.plot(accuracy_LWoR,color='red', linewidth=1)\n",
    "plt.ylabel('Accuracy')\n",
    "plt.xlabel('number of documents')\n",
    "plt.xscale('linear')\n",
    "plt.show()"
   ]
  },
  {
   "cell_type": "markdown",
   "metadata": {},
   "source": [
    "# Penalty L1\n"
   ]
  },
  {
   "cell_type": "code",
   "execution_count": 594,
   "metadata": {
    "collapsed": true
   },
   "outputs": [],
   "source": [
    "clf_lr2 = linear_model.LogisticRegression(penalty = 'l1',C=0.01)"
   ]
  },
  {
   "cell_type": "code",
   "execution_count": 595,
   "metadata": {
    "collapsed": false
   },
   "outputs": [
    {
     "data": {
      "text/plain": [
       "0.69559412550066757"
      ]
     },
     "execution_count": 595,
     "metadata": {},
     "output_type": "execute_result"
    }
   ],
   "source": [
    "df_train = da[0:50]\n",
    "df_test = da[50:799]\n",
    "clf_lr2.fit(df_train.drop(['Sentiment'],axis=1),df_train['Sentiment'])\n",
    "clf_pred = clf_lr2.predict(df_test.drop(['Sentiment'],axis=1))\n",
    "accuracy2 = accuracy_score(df_test['Sentiment'],clf_pred)\n",
    "accuracy2"
   ]
  },
  {
   "cell_type": "code",
   "execution_count": 596,
   "metadata": {
    "collapsed": false
   },
   "outputs": [
    {
     "data": {
      "text/plain": [
       "0.69957081545064381"
      ]
     },
     "execution_count": 596,
     "metadata": {},
     "output_type": "execute_result"
    }
   ],
   "source": [
    "df_train = da[0:100]\n",
    "df_test = da[100:799]\n",
    "clf_lr2.fit(df_train.drop(['Sentiment'],axis=1),df_train['Sentiment'])\n",
    "clf_pred = clf_lr2.predict(df_test.drop(['Sentiment'],axis=1))\n",
    "accuracy3 = accuracy_score(df_test['Sentiment'],clf_pred)\n",
    "accuracy3"
   ]
  },
  {
   "cell_type": "code",
   "execution_count": 597,
   "metadata": {
    "collapsed": false
   },
   "outputs": [
    {
     "data": {
      "text/plain": [
       "0.70416024653312792"
      ]
     },
     "execution_count": 597,
     "metadata": {},
     "output_type": "execute_result"
    }
   ],
   "source": [
    "df_train = da[0:150]\n",
    "df_test = da[150:799]\n",
    "clf_lr2.fit(df_train.drop(['Sentiment'],axis=1),df_train['Sentiment'])\n",
    "clf_pred = clf_lr2.predict(df_test.drop(['Sentiment'],axis=1))\n",
    "accuracy4 = accuracy_score(df_test['Sentiment'],clf_pred)\n",
    "accuracy4"
   ]
  },
  {
   "cell_type": "code",
   "execution_count": 598,
   "metadata": {
    "collapsed": false
   },
   "outputs": [
    {
     "data": {
      "text/plain": [
       "0.69616026711185308"
      ]
     },
     "execution_count": 598,
     "metadata": {},
     "output_type": "execute_result"
    }
   ],
   "source": [
    "df_train = da[0:200]\n",
    "df_test = da[200:799]\n",
    "clf_lr2.fit(df_train.drop(['Sentiment'],axis=1),df_train['Sentiment'])\n",
    "clf_pred = clf_lr2.predict(df_test.drop(['Sentiment'],axis=1))\n",
    "accuracy5 = accuracy_score(df_test['Sentiment'],clf_pred)\n",
    "accuracy5"
   ]
  },
  {
   "cell_type": "code",
   "execution_count": 599,
   "metadata": {
    "collapsed": false
   },
   "outputs": [
    {
     "data": {
      "text/plain": [
       "0.70629370629370625"
      ]
     },
     "execution_count": 599,
     "metadata": {},
     "output_type": "execute_result"
    }
   ],
   "source": [
    "df_train = da[0:227]\n",
    "df_test = da[227:799]\n",
    "clf_lr2.fit(df_train.drop(['Sentiment'],axis=1),df_train['Sentiment'])\n",
    "clf_pred = clf_lr2.predict(df_test.drop(['Sentiment'],axis=1))\n",
    "accuracy6 = accuracy_score(df_test['Sentiment'],clf_pred)\n",
    "accuracy6"
   ]
  },
  {
   "cell_type": "code",
   "execution_count": 600,
   "metadata": {
    "collapsed": false
   },
   "outputs": [
    {
     "data": {
      "text/plain": [
       "[0.69559412550066757,\n",
       " 0.69957081545064381,\n",
       " 0.70416024653312792,\n",
       " 0.69616026711185308,\n",
       " 0.70629370629370625]"
      ]
     },
     "execution_count": 600,
     "metadata": {},
     "output_type": "execute_result"
    }
   ],
   "source": [
    "accuracy_LWoR = [accuracy2, accuracy3,accuracy4, accuracy5, accuracy6]\n",
    "accuracy_LWoR"
   ]
  },
  {
   "cell_type": "code",
   "execution_count": 601,
   "metadata": {
    "collapsed": false
   },
   "outputs": [
    {
     "data": {
      "text/plain": [
       "0.69559412550066757"
      ]
     },
     "execution_count": 601,
     "metadata": {},
     "output_type": "execute_result"
    }
   ],
   "source": [
    "df_train = rational_da[0:50]\n",
    "df_test = rational_da[50:799]\n",
    "clf_lr2.fit(df_train.drop(['Sentiment'],axis=1),df_train['Sentiment'])\n",
    "clf_pred = clf_lr2.predict(df_test.drop(['Sentiment'],axis=1))\n",
    "accuracy2 = accuracy_score(df_test['Sentiment'],clf_pred)\n",
    "accuracy2"
   ]
  },
  {
   "cell_type": "code",
   "execution_count": 602,
   "metadata": {
    "collapsed": false
   },
   "outputs": [
    {
     "data": {
      "text/plain": [
       "0.69957081545064381"
      ]
     },
     "execution_count": 602,
     "metadata": {},
     "output_type": "execute_result"
    }
   ],
   "source": [
    "df_train = rational_da[0:100]\n",
    "df_test = rational_da[100:799]\n",
    "clf_lr2.fit(df_train.drop(['Sentiment'],axis=1),df_train['Sentiment'])\n",
    "clf_pred = clf_lr2.predict(df_test.drop(['Sentiment'],axis=1))\n",
    "accuracy3 = accuracy_score(df_test['Sentiment'],clf_pred)\n",
    "accuracy3"
   ]
  },
  {
   "cell_type": "code",
   "execution_count": 603,
   "metadata": {
    "collapsed": false
   },
   "outputs": [
    {
     "data": {
      "text/plain": [
       "0.70416024653312792"
      ]
     },
     "execution_count": 603,
     "metadata": {},
     "output_type": "execute_result"
    }
   ],
   "source": [
    "df_train = rational_da[0:150]\n",
    "df_test = rational_da[150:799]\n",
    "clf_lr2.fit(df_train.drop(['Sentiment'],axis=1),df_train['Sentiment'])\n",
    "clf_pred = clf_lr2.predict(df_test.drop(['Sentiment'],axis=1))\n",
    "accuracy4 = accuracy_score(df_test['Sentiment'],clf_pred)\n",
    "accuracy4"
   ]
  },
  {
   "cell_type": "code",
   "execution_count": 604,
   "metadata": {
    "collapsed": false
   },
   "outputs": [
    {
     "data": {
      "text/plain": [
       "0.69616026711185308"
      ]
     },
     "execution_count": 604,
     "metadata": {},
     "output_type": "execute_result"
    }
   ],
   "source": [
    "df_train = rational_da[0:200]\n",
    "df_test = rational_da[200:799]\n",
    "clf_lr2.fit(df_train.drop(['Sentiment'],axis=1),df_train['Sentiment'])\n",
    "clf_pred = clf_lr2.predict(df_test.drop(['Sentiment'],axis=1))\n",
    "accuracy5 = accuracy_score(df_test['Sentiment'],clf_pred)\n",
    "accuracy5"
   ]
  },
  {
   "cell_type": "code",
   "execution_count": 605,
   "metadata": {
    "collapsed": false
   },
   "outputs": [
    {
     "data": {
      "text/plain": [
       "0.70629370629370625"
      ]
     },
     "execution_count": 605,
     "metadata": {},
     "output_type": "execute_result"
    }
   ],
   "source": [
    "df_train = rational_da[0:227]\n",
    "df_test = rational_da[227:799]\n",
    "clf_lr2.fit(df_train.drop(['Sentiment'],axis=1),df_train['Sentiment'])\n",
    "clf_pred = clf_lr2.predict(df_test.drop(['Sentiment'],axis=1))\n",
    "accuracy6 = accuracy_score(df_test['Sentiment'],clf_pred)\n",
    "accuracy6"
   ]
  },
  {
   "cell_type": "code",
   "execution_count": 606,
   "metadata": {
    "collapsed": false
   },
   "outputs": [
    {
     "data": {
      "text/plain": [
       "[0.69559412550066757,\n",
       " 0.69957081545064381,\n",
       " 0.70416024653312792,\n",
       " 0.69616026711185308,\n",
       " 0.70629370629370625]"
      ]
     },
     "execution_count": 606,
     "metadata": {},
     "output_type": "execute_result"
    }
   ],
   "source": [
    "accuracy_LWR = [accuracy2, accuracy3,accuracy4, accuracy5, accuracy6]\n",
    "accuracy_LWR"
   ]
  },
  {
   "cell_type": "code",
   "execution_count": 607,
   "metadata": {
    "collapsed": false
   },
   "outputs": [
    {
     "data": {
      "image/png": "[encoded data removed]",
      "text/plain": [
       "<matplotlib.figure.Figure at 0x2781242f160>"
      ]
     },
     "metadata": {},
     "output_type": "display_data"
    }
   ],
   "source": [
    "import matplotlib.pyplot as plt\n",
    "plt.title('Logistic regression(Penalty=L1)')\n",
    "irn = plt.plot([0,50,100,150,200],accuracy_LWR,color='blue', linewidth=1,label ='Learning with Rationales')\n",
    "ir = plt.plot([0,50,100,150,200],accuracy_LWoR,color='red', linewidth=1,label='learning without rationales')\n",
    "plt.ylabel('Accuracy')\n",
    "plt.xlabel('number of documents')\n",
    "plt.xscale('linear')\n",
    "plt.legend()\n",
    "plt.show()"
   ]
  },
  {
   "cell_type": "code",
   "execution_count": null,
   "metadata": {
    "collapsed": true
   },
   "outputs": [],
   "source": []
  },
  {
   "cell_type": "code",
   "execution_count": null,
   "metadata": {
    "collapsed": true
   },
   "outputs": [],
   "source": []
  },
  {
   "cell_type": "code",
   "execution_count": null,
   "metadata": {
    "collapsed": true
   },
   "outputs": [],
   "source": []
  },
  {
   "cell_type": "markdown",
   "metadata": {},
   "source": [
    "# Multinomial NB"
   ]
  },
  {
   "cell_type": "code",
   "execution_count": 608,
   "metadata": {
    "collapsed": true
   },
   "outputs": [],
   "source": [
    "\n",
    "from sklearn.naive_bayes import MultinomialNB"
   ]
  },
  {
   "cell_type": "code",
   "execution_count": 609,
   "metadata": {
    "collapsed": false
   },
   "outputs": [
    {
     "data": {
      "text/plain": [
       "0.68491321762349799"
      ]
     },
     "execution_count": 609,
     "metadata": {},
     "output_type": "execute_result"
    }
   ],
   "source": [
    "df_train = da[0:50]\n",
    "df_test = da[50:799]\n",
    "clf_NB = MultinomialNB()\n",
    "clf_NB.fit(df_train.drop(['Sentiment'],axis=1),df_train['Sentiment'])\n",
    "clf_pred = clf_NB.predict(df_test.drop(['Sentiment'],axis=1))\n",
    "accuracy2 = accuracy_score(df_test['Sentiment'],clf_pred)\n",
    "accuracy2\n"
   ]
  },
  {
   "cell_type": "code",
   "execution_count": 610,
   "metadata": {
    "collapsed": false
   },
   "outputs": [
    {
     "data": {
      "text/plain": [
       "0.68812589413447778"
      ]
     },
     "execution_count": 610,
     "metadata": {},
     "output_type": "execute_result"
    }
   ],
   "source": [
    "df_train = da[0:100]\n",
    "df_test = da[100:799]\n",
    "clf_NB = MultinomialNB()\n",
    "clf_NB.fit(df_train.drop(['Sentiment'],axis=1),df_train['Sentiment'])\n",
    "clf_pred = clf_NB.predict(df_test.drop(['Sentiment'],axis=1))\n",
    "accuracy3 = accuracy_score(df_test['Sentiment'],clf_pred)\n",
    "accuracy3"
   ]
  },
  {
   "cell_type": "code",
   "execution_count": 611,
   "metadata": {
    "collapsed": false
   },
   "outputs": [
    {
     "data": {
      "text/plain": [
       "0.7380585516178737"
      ]
     },
     "execution_count": 611,
     "metadata": {},
     "output_type": "execute_result"
    }
   ],
   "source": [
    "df_train = da[0:150]\n",
    "df_test = da[150:799]\n",
    "clf_NB = MultinomialNB()\n",
    "clf_NB.fit(df_train.drop(['Sentiment'],axis=1),df_train['Sentiment'])\n",
    "clf_pred = clf_NB.predict(df_test.drop(['Sentiment'],axis=1))\n",
    "accuracy4 = accuracy_score(df_test['Sentiment'],clf_pred)\n",
    "accuracy4"
   ]
  },
  {
   "cell_type": "code",
   "execution_count": 612,
   "metadata": {
    "collapsed": false
   },
   "outputs": [
    {
     "data": {
      "text/plain": [
       "0.74457429048414026"
      ]
     },
     "execution_count": 612,
     "metadata": {},
     "output_type": "execute_result"
    }
   ],
   "source": [
    "df_train = da[0:200]\n",
    "df_test = da[200:799]\n",
    "clf_NB = MultinomialNB()\n",
    "clf_NB.fit(df_train.drop(['Sentiment'],axis=1),df_train['Sentiment'])\n",
    "clf_pred = clf_NB.predict(df_test.drop(['Sentiment'],axis=1))\n",
    "accuracy5 = accuracy_score(df_test['Sentiment'],clf_pred)\n",
    "accuracy5"
   ]
  },
  {
   "cell_type": "code",
   "execution_count": 613,
   "metadata": {
    "collapsed": false
   },
   "outputs": [
    {
     "data": {
      "text/plain": [
       "0.72027972027972031"
      ]
     },
     "execution_count": 613,
     "metadata": {},
     "output_type": "execute_result"
    }
   ],
   "source": [
    "df_train = da[0:227]\n",
    "df_test = da[227:799]\n",
    "clf_NB = MultinomialNB()\n",
    "clf_NB.fit(df_train.drop(['Sentiment'],axis=1),df_train['Sentiment'])\n",
    "clf_pred = clf_NB.predict(df_test.drop(['Sentiment'],axis=1))\n",
    "accuracy6 = accuracy_score(df_test['Sentiment'],clf_pred)\n",
    "accuracy6"
   ]
  },
  {
   "cell_type": "code",
   "execution_count": 614,
   "metadata": {
    "collapsed": false
   },
   "outputs": [
    {
     "data": {
      "text/plain": [
       "[0.68491321762349799,\n",
       " 0.68812589413447778,\n",
       " 0.7380585516178737,\n",
       " 0.74457429048414026,\n",
       " 0.72027972027972031]"
      ]
     },
     "execution_count": 614,
     "metadata": {},
     "output_type": "execute_result"
    }
   ],
   "source": [
    "accuracy_LWoR = [accuracy2, accuracy3,accuracy4, accuracy5, accuracy6]\n",
    "accuracy_LWoR"
   ]
  },
  {
   "cell_type": "code",
   "execution_count": 615,
   "metadata": {
    "collapsed": false
   },
   "outputs": [
    {
     "data": {
      "text/plain": [
       "0.71695594125500672"
      ]
     },
     "execution_count": 615,
     "metadata": {},
     "output_type": "execute_result"
    }
   ],
   "source": [
    "df_train = rational_da[0:50]\n",
    "df_test = rational_da[50:799]\n",
    "clf_NB = MultinomialNB()\n",
    "clf_NB.fit(df_train.drop(['Sentiment'],axis=1),df_train['Sentiment'])\n",
    "clf_pred = clf_NB.predict(df_test.drop(['Sentiment'],axis=1))\n",
    "accuracy2= accuracy_score(df_test['Sentiment'],clf_pred)\n",
    "accuracy2"
   ]
  },
  {
   "cell_type": "code",
   "execution_count": 616,
   "metadata": {
    "collapsed": false
   },
   "outputs": [
    {
     "data": {
      "text/plain": [
       "0.72961373390557938"
      ]
     },
     "execution_count": 616,
     "metadata": {},
     "output_type": "execute_result"
    }
   ],
   "source": [
    "df_train = rational_da[0:100]\n",
    "df_test = rational_da[100:799]\n",
    "clf_NB = MultinomialNB()\n",
    "clf_NB.fit(df_train.drop(['Sentiment'],axis=1),df_train['Sentiment'])\n",
    "clf_pred = clf_NB.predict(df_test.drop(['Sentiment'],axis=1))\n",
    "accuracy3= accuracy_score(df_test['Sentiment'],clf_pred)\n",
    "accuracy3"
   ]
  },
  {
   "cell_type": "code",
   "execution_count": 617,
   "metadata": {
    "collapsed": false
   },
   "outputs": [
    {
     "data": {
      "text/plain": [
       "0.73343605546995383"
      ]
     },
     "execution_count": 617,
     "metadata": {},
     "output_type": "execute_result"
    }
   ],
   "source": [
    "df_train = rational_da[0:150]\n",
    "df_test = rational_da[150:799]\n",
    "clf_NB = MultinomialNB()\n",
    "clf_NB.fit(df_train.drop(['Sentiment'],axis=1),df_train['Sentiment'])\n",
    "clf_pred = clf_NB.predict(df_test.drop(['Sentiment'],axis=1))\n",
    "accuracy4= accuracy_score(df_test['Sentiment'],clf_pred)\n",
    "accuracy4"
   ]
  },
  {
   "cell_type": "code",
   "execution_count": 618,
   "metadata": {
    "collapsed": false
   },
   "outputs": [
    {
     "data": {
      "text/plain": [
       "0.72454090150250416"
      ]
     },
     "execution_count": 618,
     "metadata": {},
     "output_type": "execute_result"
    }
   ],
   "source": [
    "df_train = rational_da[0:200]\n",
    "df_test = rational_da[200:799]\n",
    "clf_NB = MultinomialNB()\n",
    "clf_NB.fit(df_train.drop(['Sentiment'],axis=1),df_train['Sentiment'])\n",
    "clf_pred = clf_NB.predict(df_test.drop(['Sentiment'],axis=1))\n",
    "accuracy5= accuracy_score(df_test['Sentiment'],clf_pred)\n",
    "accuracy5"
   ]
  },
  {
   "cell_type": "code",
   "execution_count": 619,
   "metadata": {
    "collapsed": false
   },
   "outputs": [
    {
     "data": {
      "text/plain": [
       "0.74125874125874125"
      ]
     },
     "execution_count": 619,
     "metadata": {},
     "output_type": "execute_result"
    }
   ],
   "source": [
    "df_train = rational_da[0:227]\n",
    "df_test = rational_da[227:799]\n",
    "clf_NB = MultinomialNB()\n",
    "clf_NB.fit(df_train.drop(['Sentiment'],axis=1),df_train['Sentiment'])\n",
    "clf_pred = clf_NB.predict(df_test.drop(['Sentiment'],axis=1))\n",
    "accuracy6= accuracy_score(df_test['Sentiment'],clf_pred)\n",
    "accuracy6"
   ]
  },
  {
   "cell_type": "code",
   "execution_count": 620,
   "metadata": {
    "collapsed": false
   },
   "outputs": [
    {
     "data": {
      "text/plain": [
       "[0.71695594125500672,\n",
       " 0.72961373390557938,\n",
       " 0.73343605546995383,\n",
       " 0.72454090150250416,\n",
       " 0.74125874125874125]"
      ]
     },
     "execution_count": 620,
     "metadata": {},
     "output_type": "execute_result"
    }
   ],
   "source": [
    "accuracy_LWR = [accuracy2, accuracy3,accuracy4, accuracy5, accuracy6]\n",
    "accuracy_LWR"
   ]
  },
  {
   "cell_type": "code",
   "execution_count": 621,
   "metadata": {
    "collapsed": false
   },
   "outputs": [
    {
     "data": {
      "image/png": "[encoded data removed]",
      "text/plain": [
       "<matplotlib.figure.Figure at 0x278116074a8>"
      ]
     },
     "metadata": {},
     "output_type": "display_data"
    }
   ],
   "source": [
    "import matplotlib.pyplot as plt\n",
    "plt.title('Multinomial Naive Bayes')\n",
    "irn = plt.plot([0,50,100,150,200],accuracy_LWR,color='blue', linewidth=1,label ='Learning with Rationales')\n",
    "ir = plt.plot([0,50,100,150,200],accuracy_LWoR,color='red', linewidth=1,label ='Learning without Rationales')\n",
    "plt.ylabel('Accuracy')\n",
    "plt.xlabel('number of documents')\n",
    "plt.xscale('linear')\n",
    "plt.legend()\n",
    "plt.show()"
   ]
  },
  {
   "cell_type": "code",
   "execution_count": null,
   "metadata": {
    "collapsed": true
   },
   "outputs": [],
   "source": []
  },
  {
   "cell_type": "code",
   "execution_count": null,
   "metadata": {
    "collapsed": true
   },
   "outputs": [],
   "source": []
  },
  {
   "cell_type": "code",
   "execution_count": null,
   "metadata": {
    "collapsed": true
   },
   "outputs": [],
   "source": []
  }
 ],
 "metadata": {
  "kernelspec": {
   "display_name": "Python 3",
   "language": "python",
   "name": "python3"
  },
  "language_info": {
   "codemirror_mode": {
    "name": "ipython",
    "version": 3
   },
   "file_extension": ".py",
   "mimetype": "text/x-python",
   "name": "python",
   "nbconvert_exporter": "python",
   "pygments_lexer": "ipython3",
   "version": "3.6.0"
  }
 },
 "nbformat": 4,
 "nbformat_minor": 2
}
